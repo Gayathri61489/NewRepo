{
 "cells": [
  {
   "cell_type": "markdown",
   "id": "7c836224-8c34-46f9-a4d1-8a8bcfbda134",
   "metadata": {
    "tags": []
   },
   "source": [
    "# My Jupyter Notebook on IBM Watson Studio"
   ]
  },
  {
   "cell_type": "markdown",
   "id": "ca91214d-03e1-4e18-bd4d-893c92aa38f8",
   "metadata": {},
   "source": [
    "**Gayathri J**  \n",
    "Working as a Senior Data Analyst"
   ]
  },
  {
   "cell_type": "markdown",
   "id": "b89a8a12-a91c-4fd3-9783-a36020a010c7",
   "metadata": {},
   "source": [
    "*I am interested in Data science to build my career and enhance my knowledge in data analysis and visualizations. As a data analyst, I find some areas complicated and time consuming when it involves Big data. Hence, Data science would help me to overcome those real-time complications.*"
   ]
  },
  {
   "cell_type": "markdown",
   "id": "0467c632-e340-4dfd-ba99-25d0bf4b493b",
   "metadata": {},
   "source": [
    "### Multiplication of Three numbers:"
   ]
  },
  {
   "cell_type": "code",
   "execution_count": 12,
   "id": "409f25cc-4f31-4a1d-a60a-7d0c8720195a",
   "metadata": {},
   "outputs": [
    {
     "data": {
      "text/plain": [
       "127872"
      ]
     },
     "execution_count": 12,
     "metadata": {},
     "output_type": "execute_result"
    }
   ],
   "source": [
    "16*4*1998"
   ]
  },
  {
   "cell_type": "markdown",
   "id": "88f5f81e-7f7d-4670-bc23-ffde79952d48",
   "metadata": {},
   "source": [
    "~My Jupyter notebook~  \n",
    "- My \n",
    "- Jupyter \n",
    "- Notebook  \n",
    "My `Jupyter` Notebook  \n",
    "1\\. My  \n",
    "2\\. Jupyter  \n",
    "3\\. Notebook  \n",
    "\n",
    "|Col 1|Col 2|Col 3|  \n",
    "|-----|-----|-----|  \n",
    "|My|Jupyter|Notebook|"
   ]
  },
  {
   "cell_type": "code",
   "execution_count": null,
   "id": "14043a01-bf0f-40a9-9559-f3f3ce960c39",
   "metadata": {},
   "outputs": [],
   "source": []
  }
 ],
 "metadata": {
  "kernelspec": {
   "display_name": "Python",
   "language": "python",
   "name": "conda-env-python-py"
  },
  "language_info": {
   "codemirror_mode": {
    "name": "ipython",
    "version": 3
   },
   "file_extension": ".py",
   "mimetype": "text/x-python",
   "name": "python",
   "nbconvert_exporter": "python",
   "pygments_lexer": "ipython3",
   "version": "3.7.12"
  }
 },
 "nbformat": 4,
 "nbformat_minor": 5
}
